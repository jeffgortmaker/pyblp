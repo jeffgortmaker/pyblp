{
 "cells": [
  {
   "cell_type": "markdown",
   "metadata": {},
   "source": [
    "# Iteration Example"
   ]
  },
  {
   "cell_type": "code",
   "execution_count": 1,
   "metadata": {},
   "outputs": [
    {
     "data": {
      "text/plain": [
       "'1.1.2'"
      ]
     },
     "execution_count": 1,
     "metadata": {},
     "output_type": "execute_result"
    }
   ],
   "source": [
    "import pyblp\n",
    "import numpy as np\n",
    "\n",
    "pyblp.__version__"
   ]
  },
  {
   "cell_type": "markdown",
   "metadata": {},
   "source": [
    "In this example, we'll build a SQUAREM configuration with a $\\ell^2$-norm and use scheme S1 from :ref:`references:Varadhan and Roland (2008)`."
   ]
  },
  {
   "cell_type": "code",
   "execution_count": 2,
   "metadata": {},
   "outputs": [
    {
     "data": {
      "text/plain": [
       "Configured to iterate using the SQUAREM acceleration method without analytic Jacobians with options {atol: +1.000000E-14, rtol: 0, max_evaluations: 5000, norm: numpy.linalg.norm, scheme: 1, step_min: +1.000000E+00, step_max: +1.000000E+00, step_factor: +4.000000E+00}."
      ]
     },
     "execution_count": 2,
     "metadata": {},
     "output_type": "execute_result"
    }
   ],
   "source": [
    "iteration = pyblp.Iteration('squarem', {'norm': np.linalg.norm, 'scheme': 1})\n",
    "iteration"
   ]
  },
  {
   "cell_type": "markdown",
   "metadata": {},
   "source": [
    "Next, instead of using a built-in routine, we'll create a custom method that implements a version of simple iteration, which, for the sake of having a nontrivial example, arbitrarily identifies a major iteration with three objective evaluations."
   ]
  },
  {
   "cell_type": "code",
   "execution_count": 3,
   "metadata": {},
   "outputs": [],
   "source": [
    "def custom_method(initial, contraction, callback, max_evaluations, tol, norm):\n",
    "    x = initial\n",
    "    evaluations = 0\n",
    "    while evaluations < max_evaluations:\n",
    "       x0, (x, weights, _) = x, contraction(x)\n",
    "       evaluations += 1\n",
    "       if evaluations % 3 == 0:\n",
    "           callback()\n",
    "       if weights is None:\n",
    "           difference = norm(x - x0)\n",
    "       else:\n",
    "           difference = norm(weights * (x - x0))\n",
    "       if difference < tol:\n",
    "           break\n",
    "    return x, evaluations < max_evaluations"
   ]
  },
  {
   "cell_type": "markdown",
   "metadata": {},
   "source": [
    "We can then use this custom method to build a custom iteration configuration."
   ]
  },
  {
   "cell_type": "code",
   "execution_count": 4,
   "metadata": {},
   "outputs": [
    {
     "data": {
      "text/plain": [
       "Configured to iterate using a custom method without analytic Jacobians with options {}."
      ]
     },
     "execution_count": 4,
     "metadata": {},
     "output_type": "execute_result"
    }
   ],
   "source": [
    "iteration = pyblp.Iteration(custom_method)\n",
    "iteration"
   ]
  }
 ],
 "metadata": {
  "kernelspec": {
   "display_name": "Python 3 (ipykernel)",
   "language": "python",
   "name": "python3"
  },
  "language_info": {
   "codemirror_mode": {
    "name": "ipython",
    "version": 3
   },
   "file_extension": ".py",
   "mimetype": "text/x-python",
   "name": "python",
   "nbconvert_exporter": "python",
   "pygments_lexer": "ipython3",
   "version": "3.9.18"
  }
 },
 "nbformat": 4,
 "nbformat_minor": 4
}
